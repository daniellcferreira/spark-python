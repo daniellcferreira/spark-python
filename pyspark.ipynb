{
  "nbformat": 4,
  "nbformat_minor": 0,
  "metadata": {
    "colab": {
      "provenance": []
    },
    "kernelspec": {
      "name": "python3",
      "display_name": "Python 3"
    },
    "language_info": {
      "name": "python"
    }
  },
  "cells": [
    {
      "cell_type": "code",
      "execution_count": 1,
      "metadata": {
        "colab": {
          "base_uri": "https://localhost:8080/"
        },
        "id": "-1tKdQnJ0QH3",
        "outputId": "45c00dbc-7169-4d72-ecaf-9d1028fd8788"
      },
      "outputs": [
        {
          "output_type": "stream",
          "name": "stdout",
          "text": [
            "Requirement already satisfied: pyspark in /usr/local/lib/python3.11/dist-packages (3.5.5)\n",
            "Requirement already satisfied: py4j==0.10.9.7 in /usr/local/lib/python3.11/dist-packages (from pyspark) (0.10.9.7)\n"
          ]
        }
      ],
      "source": [
        "!pip install pyspark"
      ]
    },
    {
      "cell_type": "code",
      "source": [
        "from pyspark.sql import SparkSession\n",
        "from pyspark.sql.functions import *"
      ],
      "metadata": {
        "id": "e6CkEu7C0lKL"
      },
      "execution_count": 2,
      "outputs": []
    },
    {
      "cell_type": "code",
      "source": [
        "# criando sparksession\n",
        "spark = SparkSession.builder.appName(\"Exemplo-1\").getOrCreate()"
      ],
      "metadata": {
        "id": "BY59pBkN0sJV"
      },
      "execution_count": 3,
      "outputs": []
    },
    {
      "cell_type": "code",
      "source": [
        "# criando dataframe de pessoas\n",
        "data = [\n",
        "    (1, \"Alice\", 25, \"F\", 5),\n",
        "    (2, \"Bob\", 30, \"M\", 8),\n",
        "    (3, \"Charlie\", 22, \"M\", 1),\n",
        "    (4, \"David\", 28, \"M\", 6),\n",
        "    (5, \"Eve\", 35, \"F\", 10),\n",
        "    (6, \"Frank\", 27, \"M\", 4),\n",
        "    (7, \"Grace\", 29, \"F\", 7),\n",
        "    (8, \"Henry\", 33, \"M\", 9),\n",
        "    (9, \"Ivy\", 26, \"F\", 12),\n",
        "    (10, \"Jack\", 31, \"M\", 17),\n",
        "    (11, \"Karen\", 24, \"F\", 14),\n",
        "    (12, \"Leo\", 32, \"M\", 6),\n",
        "    (13, \"Mia\", 23, \"F\", 13),\n",
        "    (14, \"Nathan\", 34, \"M\", 18),\n",
        "    (15, \"Olivia\", 27, \"F\", 15),\n",
        "    (16, \"Peter\", 30, \"M\", 19),\n",
        "    (17, \"Quinn\", 28, \"F\", 16),\n",
        "    (18, \"Ryan\", 33, \"M\", 20),\n",
        "    (19, \"Sophia\", 26, \"F\", 3),\n",
        "    (20, \"Tom\", 31, \"M\", 7)\n",
        "]\n",
        "people_df = spark.createDataFrame(data, [\"id\", \"name\", \"age\", \"gender\", \"job_id\"])"
      ],
      "metadata": {
        "id": "CAL8vYiG06H-"
      },
      "execution_count": 16,
      "outputs": []
    },
    {
      "cell_type": "code",
      "source": [
        "# criando dataframe de trabalhos\n",
        "data = [\n",
        "    (1, \"Software Engineer\", 50000),\n",
        "    (2, \"Data Analyst\", 60000),\n",
        "    (3, \"Marketing Specialist\", 45000),\n",
        "    (4, \"Sales Representative\", 55000),\n",
        "    (5, \"Product Manager\", 70000),\n",
        "    (6, \"Financial Analyst\", 65000),\n",
        "    (7, \"Graphic Designer\", 52000),\n",
        "    (8, \"Operations Manager\", 75000),\n",
        "    (9, \"Customer Service Representative\", 48000),\n",
        "    (10, \"Project Manager\", 72000),\n",
        "    (11, \"Data Scientist\", 80000),\n",
        "    (12, \"Business Analyst\", 68000),\n",
        "    (13, \"Software Developer\", 75000),\n",
        "    (14, \"UI/UX Designer\", 62000),\n",
        "    (15, \"Financial Planner\", 70000),\n",
        "    (16, \"Human Resources Manager\", 73000),\n",
        "    (17, \"Digital Marketing Specialist\", 58000),\n",
        "    (18, \"IT Support\", 43000),\n",
        "    (19, \"Research Scientist\", 75000),\n",
        "    (20, \"Trainee\", 46000)\n",
        "]\n",
        "jobs_df = spark.createDataFrame(data, [\"job_id\", \"job_title\", \"salary\"])"
      ],
      "metadata": {
        "id": "Wh6cLgmC1aJH"
      },
      "execution_count": 17,
      "outputs": []
    },
    {
      "cell_type": "code",
      "source": [
        "# show dataframes\n",
        "people_df.show()\n",
        "jobs_df.show()"
      ],
      "metadata": {
        "colab": {
          "base_uri": "https://localhost:8080/"
        },
        "id": "czG6-UL12KAO",
        "outputId": "076f496b-e58d-48c3-f24e-ca026b0e65a7"
      },
      "execution_count": 18,
      "outputs": [
        {
          "output_type": "stream",
          "name": "stdout",
          "text": [
            "+---+-------+---+------+------+\n",
            "| id|   name|age|gender|job_id|\n",
            "+---+-------+---+------+------+\n",
            "|  1|  Alice| 25|     F|     5|\n",
            "|  2|    Bob| 30|     M|     8|\n",
            "|  3|Charlie| 22|     M|     1|\n",
            "|  4|  David| 28|     M|     6|\n",
            "|  5|    Eve| 35|     F|    10|\n",
            "|  6|  Frank| 27|     M|     4|\n",
            "|  7|  Grace| 29|     F|     7|\n",
            "|  8|  Henry| 33|     M|     9|\n",
            "|  9|    Ivy| 26|     F|    12|\n",
            "| 10|   Jack| 31|     M|    17|\n",
            "| 11|  Karen| 24|     F|    14|\n",
            "| 12|    Leo| 32|     M|     6|\n",
            "| 13|    Mia| 23|     F|    13|\n",
            "| 14| Nathan| 34|     M|    18|\n",
            "| 15| Olivia| 27|     F|    15|\n",
            "| 16|  Peter| 30|     M|    19|\n",
            "| 17|  Quinn| 28|     F|    16|\n",
            "| 18|   Ryan| 33|     M|    20|\n",
            "| 19| Sophia| 26|     F|     3|\n",
            "| 20|    Tom| 31|     M|     7|\n",
            "+---+-------+---+------+------+\n",
            "\n",
            "+------+--------------------+------+\n",
            "|job_id|           job_title|salary|\n",
            "+------+--------------------+------+\n",
            "|     1|   Software Engineer| 50000|\n",
            "|     2|        Data Analyst| 60000|\n",
            "|     3|Marketing Specialist| 45000|\n",
            "|     4|Sales Representative| 55000|\n",
            "|     5|     Product Manager| 70000|\n",
            "|     6|   Financial Analyst| 65000|\n",
            "|     7|    Graphic Designer| 52000|\n",
            "|     8|  Operations Manager| 75000|\n",
            "|     9|Customer Service ...| 48000|\n",
            "|    10|     Project Manager| 72000|\n",
            "|    11|      Data Scientist| 80000|\n",
            "|    12|    Business Analyst| 68000|\n",
            "|    13|  Software Developer| 75000|\n",
            "|    14|      UI/UX Designer| 62000|\n",
            "|    15|   Financial Planner| 70000|\n",
            "|    16|Human Resources M...| 73000|\n",
            "|    17|Digital Marketing...| 58000|\n",
            "|    18|          IT Support| 43000|\n",
            "|    19|  Research Scientist| 75000|\n",
            "|    20|             Trainee| 46000|\n",
            "+------+--------------------+------+\n",
            "\n"
          ]
        }
      ]
    },
    {
      "cell_type": "code",
      "source": [
        "# selecionando colunas\n",
        "people_df.select(\"name\", \"age\").show()"
      ],
      "metadata": {
        "colab": {
          "base_uri": "https://localhost:8080/"
        },
        "id": "8b0qCHW32YaY",
        "outputId": "d24b43e6-6ba4-41fa-e0ca-98409e5e2208"
      },
      "execution_count": 19,
      "outputs": [
        {
          "output_type": "stream",
          "name": "stdout",
          "text": [
            "+-------+---+\n",
            "|   name|age|\n",
            "+-------+---+\n",
            "|  Alice| 25|\n",
            "|    Bob| 30|\n",
            "|Charlie| 22|\n",
            "|  David| 28|\n",
            "|    Eve| 35|\n",
            "|  Frank| 27|\n",
            "|  Grace| 29|\n",
            "|  Henry| 33|\n",
            "|    Ivy| 26|\n",
            "|   Jack| 31|\n",
            "|  Karen| 24|\n",
            "|    Leo| 32|\n",
            "|    Mia| 23|\n",
            "| Nathan| 34|\n",
            "| Olivia| 27|\n",
            "|  Peter| 30|\n",
            "|  Quinn| 28|\n",
            "|   Ryan| 33|\n",
            "| Sophia| 26|\n",
            "|    Tom| 31|\n",
            "+-------+---+\n",
            "\n"
          ]
        }
      ]
    },
    {
      "cell_type": "code",
      "source": [
        "# filtrando dados\n",
        "people_df.filter(col(\"age\") > 30).show()"
      ],
      "metadata": {
        "colab": {
          "base_uri": "https://localhost:8080/"
        },
        "id": "ozupOz3K2hHz",
        "outputId": "25e44604-c19d-45e3-c615-969f58f77926"
      },
      "execution_count": 20,
      "outputs": [
        {
          "output_type": "stream",
          "name": "stdout",
          "text": [
            "+---+------+---+------+------+\n",
            "| id|  name|age|gender|job_id|\n",
            "+---+------+---+------+------+\n",
            "|  5|   Eve| 35|     F|    10|\n",
            "|  8| Henry| 33|     M|     9|\n",
            "| 10|  Jack| 31|     M|    17|\n",
            "| 12|   Leo| 32|     M|     6|\n",
            "| 14|Nathan| 34|     M|    18|\n",
            "| 18|  Ryan| 33|     M|    20|\n",
            "| 20|   Tom| 31|     M|     7|\n",
            "+---+------+---+------+------+\n",
            "\n"
          ]
        }
      ]
    },
    {
      "cell_type": "code",
      "source": [
        "# agrupar e agregar dados\n",
        "people_df.groupBy(\"gender\").count().show()"
      ],
      "metadata": {
        "colab": {
          "base_uri": "https://localhost:8080/"
        },
        "id": "OwaTO7zb2tMH",
        "outputId": "f21591e8-f6eb-478b-f808-cb3d641c88aa"
      },
      "execution_count": 21,
      "outputs": [
        {
          "output_type": "stream",
          "name": "stdout",
          "text": [
            "+------+-----+\n",
            "|gender|count|\n",
            "+------+-----+\n",
            "|     F|    9|\n",
            "|     M|   11|\n",
            "+------+-----+\n",
            "\n"
          ]
        }
      ]
    },
    {
      "cell_type": "code",
      "source": [
        "# ordenar dados\n",
        "people_df.orderBy(\"age\", ascending=False).show()"
      ],
      "metadata": {
        "colab": {
          "base_uri": "https://localhost:8080/"
        },
        "id": "ilWXIV7y3Nkq",
        "outputId": "bbbaa1e1-677f-44d8-b059-b4b3c2c8719d"
      },
      "execution_count": 22,
      "outputs": [
        {
          "output_type": "stream",
          "name": "stdout",
          "text": [
            "+---+-------+---+------+------+\n",
            "| id|   name|age|gender|job_id|\n",
            "+---+-------+---+------+------+\n",
            "|  5|    Eve| 35|     F|    10|\n",
            "| 14| Nathan| 34|     M|    18|\n",
            "|  8|  Henry| 33|     M|     9|\n",
            "| 18|   Ryan| 33|     M|    20|\n",
            "| 12|    Leo| 32|     M|     6|\n",
            "| 10|   Jack| 31|     M|    17|\n",
            "| 20|    Tom| 31|     M|     7|\n",
            "|  2|    Bob| 30|     M|     8|\n",
            "| 16|  Peter| 30|     M|    19|\n",
            "|  7|  Grace| 29|     F|     7|\n",
            "| 17|  Quinn| 28|     F|    16|\n",
            "|  4|  David| 28|     M|     6|\n",
            "| 15| Olivia| 27|     F|    15|\n",
            "|  6|  Frank| 27|     M|     4|\n",
            "| 19| Sophia| 26|     F|     3|\n",
            "|  9|    Ivy| 26|     F|    12|\n",
            "|  1|  Alice| 25|     F|     5|\n",
            "| 11|  Karen| 24|     F|    14|\n",
            "| 13|    Mia| 23|     F|    13|\n",
            "|  3|Charlie| 22|     M|     1|\n",
            "+---+-------+---+------+------+\n",
            "\n"
          ]
        }
      ]
    },
    {
      "cell_type": "code",
      "source": [
        "# unindo as tabelas\n",
        "people_df.join(jobs_df, [\"job_id\"], \"inner\").show()"
      ],
      "metadata": {
        "colab": {
          "base_uri": "https://localhost:8080/"
        },
        "id": "SflDWLsm5p2z",
        "outputId": "0740ad31-988e-4a9b-e0a4-fe5020d33603"
      },
      "execution_count": 23,
      "outputs": [
        {
          "output_type": "stream",
          "name": "stdout",
          "text": [
            "+------+---+-------+---+------+--------------------+------+\n",
            "|job_id| id|   name|age|gender|           job_title|salary|\n",
            "+------+---+-------+---+------+--------------------+------+\n",
            "|     1|  3|Charlie| 22|     M|   Software Engineer| 50000|\n",
            "|     3| 19| Sophia| 26|     F|Marketing Specialist| 45000|\n",
            "|     4|  6|  Frank| 27|     M|Sales Representative| 55000|\n",
            "|     5|  1|  Alice| 25|     F|     Product Manager| 70000|\n",
            "|     6|  4|  David| 28|     M|   Financial Analyst| 65000|\n",
            "|     6| 12|    Leo| 32|     M|   Financial Analyst| 65000|\n",
            "|     7|  7|  Grace| 29|     F|    Graphic Designer| 52000|\n",
            "|     7| 20|    Tom| 31|     M|    Graphic Designer| 52000|\n",
            "|     8|  2|    Bob| 30|     M|  Operations Manager| 75000|\n",
            "|     9|  8|  Henry| 33|     M|Customer Service ...| 48000|\n",
            "|    10|  5|    Eve| 35|     F|     Project Manager| 72000|\n",
            "|    12|  9|    Ivy| 26|     F|    Business Analyst| 68000|\n",
            "|    13| 13|    Mia| 23|     F|  Software Developer| 75000|\n",
            "|    14| 11|  Karen| 24|     F|      UI/UX Designer| 62000|\n",
            "|    15| 15| Olivia| 27|     F|   Financial Planner| 70000|\n",
            "|    16| 17|  Quinn| 28|     F|Human Resources M...| 73000|\n",
            "|    17| 10|   Jack| 31|     M|Digital Marketing...| 58000|\n",
            "|    18| 14| Nathan| 34|     M|          IT Support| 43000|\n",
            "|    19| 16|  Peter| 30|     M|  Research Scientist| 75000|\n",
            "|    20| 18|   Ryan| 33|     M|             Trainee| 46000|\n",
            "+------+---+-------+---+------+--------------------+------+\n",
            "\n"
          ]
        }
      ]
    }
  ]
}