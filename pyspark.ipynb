{
  "nbformat": 4,
  "nbformat_minor": 0,
  "metadata": {
    "colab": {
      "provenance": []
    },
    "kernelspec": {
      "name": "python3",
      "display_name": "Python 3"
    },
    "language_info": {
      "name": "python"
    }
  },
  "cells": [
    {
      "cell_type": "code",
      "execution_count": 1,
      "metadata": {
        "colab": {
          "base_uri": "https://localhost:8080/"
        },
        "id": "-1tKdQnJ0QH3",
        "outputId": "2c3d959a-cdc5-449f-936b-37867e7a82e8"
      },
      "outputs": [
        {
          "output_type": "stream",
          "name": "stdout",
          "text": [
            "Requirement already satisfied: pyspark in /usr/local/lib/python3.11/dist-packages (3.5.5)\n",
            "Requirement already satisfied: py4j==0.10.9.7 in /usr/local/lib/python3.11/dist-packages (from pyspark) (0.10.9.7)\n"
          ]
        }
      ],
      "source": [
        "!pip install pyspark"
      ]
    },
    {
      "cell_type": "code",
      "source": [
        "from pyspark.sql import SparkSession\n",
        "from pyspark.sql.functions import *"
      ],
      "metadata": {
        "id": "e6CkEu7C0lKL"
      },
      "execution_count": 2,
      "outputs": []
    },
    {
      "cell_type": "code",
      "source": [
        "# criando sparksession\n",
        "spark = SparkSession.builder.appName(\"Exemplo-1\").getOrCreate()"
      ],
      "metadata": {
        "id": "BY59pBkN0sJV"
      },
      "execution_count": 3,
      "outputs": []
    },
    {
      "cell_type": "code",
      "source": [
        "# criando dataframe de pessoas\n",
        "data = [\n",
        "    (1, \"Alice\", 25, \"F\", 5),\n",
        "    (2, \"Bob\", 30, \"M\", 8),\n",
        "    (3, \"Charlie\", 22, \"M\", 1),\n",
        "    (4, \"David\", 28, \"M\", 6),\n",
        "    (5, \"Eve\", 35, \"F\", 10),\n",
        "    (6, \"Frank\", 27, \"M\", 4),\n",
        "    (7, \"Grace\", 29, \"F\", 7),\n",
        "    (8, \"Henry\", 33, \"M\", 9),\n",
        "    (9, \"Ivy\", 26, \"F\", 12),\n",
        "    (10, \"Jack\", 31, \"M\", 17),\n",
        "    (11, \"Karen\", 24, \"F\", 14),\n",
        "    (12, \"Leo\", 32, \"M\", 6),\n",
        "    (13, \"Mia\", 23, \"F\", 13),\n",
        "    (14, \"Nathan\", 34, \"M\", 18),\n",
        "    (15, \"Olivia\", 27, \"F\", 15),\n",
        "    (16, \"Peter\", 30, \"M\", 19),\n",
        "    (17, \"Quinn\", 28, \"F\", 16),\n",
        "    (18, \"Ryan\", 33, \"M\", 20),\n",
        "    (19, \"Sophia\", 26, \"F\", 3),\n",
        "    (20, \"Tom\", 31, \"M\", 7)\n",
        "]\n",
        "people_df = spark.createDataFrame(data, [\"id\", \"name\", \"age\", \"gender\", \"job_id\"])"
      ],
      "metadata": {
        "id": "CAL8vYiG06H-"
      },
      "execution_count": 4,
      "outputs": []
    },
    {
      "cell_type": "code",
      "source": [
        "# criando dataframe de trabalhos\n",
        "data = [\n",
        "    (1, \"Software Engineer\", 50000),\n",
        "    (2, \"Data Analyst\", 60000),\n",
        "    (3, \"Marketing Specialist\", 45000),\n",
        "    (4, \"Sales Representative\", 55000),\n",
        "    (5, \"Product Manager\", 70000),\n",
        "    (6, \"Financial Analyst\", 65000),\n",
        "    (7, \"Graphic Designer\", 52000),\n",
        "    (8, \"Operations Manager\", 75000),\n",
        "    (9, \"Customer Service Representative\", 48000),\n",
        "    (10, \"Project Manager\", 72000),\n",
        "    (11, \"Data Scientist\", 80000),\n",
        "    (12, \"Business Analyst\", 68000),\n",
        "    (13, \"Software Developer\", 75000),\n",
        "    (14, \"UI/UX Designer\", 62000),\n",
        "    (15, \"Financial Planner\", 70000),\n",
        "    (16, \"Human Resources Manager\", 73000),\n",
        "    (17, \"Digital Marketing Specialist\", 58000),\n",
        "    (18, \"IT Support\", 43000),\n",
        "    (19, \"Research Scientist\", 75000),\n",
        "    (20, \"Trainee\", 46000)\n",
        "]\n",
        "jobs_df = spark.createDataFrame(data, [\"job_id\", \"job_title\", \"salary\"])"
      ],
      "metadata": {
        "id": "Wh6cLgmC1aJH"
      },
      "execution_count": 5,
      "outputs": []
    },
    {
      "cell_type": "code",
      "source": [
        "# show dataframes\n",
        "people_df.show()\n",
        "jobs_df.show()"
      ],
      "metadata": {
        "colab": {
          "base_uri": "https://localhost:8080/"
        },
        "id": "czG6-UL12KAO",
        "outputId": "28f34aba-b69a-4e74-f60e-f7dc77a4d33b"
      },
      "execution_count": 6,
      "outputs": [
        {
          "output_type": "stream",
          "name": "stdout",
          "text": [
            "+---+-------+---+------+------+\n",
            "| id|   name|age|gender|job_id|\n",
            "+---+-------+---+------+------+\n",
            "|  1|  Alice| 25|     F|     5|\n",
            "|  2|    Bob| 30|     M|     8|\n",
            "|  3|Charlie| 22|     M|     1|\n",
            "|  4|  David| 28|     M|     6|\n",
            "|  5|    Eve| 35|     F|    10|\n",
            "|  6|  Frank| 27|     M|     4|\n",
            "|  7|  Grace| 29|     F|     7|\n",
            "|  8|  Henry| 33|     M|     9|\n",
            "|  9|    Ivy| 26|     F|    12|\n",
            "| 10|   Jack| 31|     M|    17|\n",
            "| 11|  Karen| 24|     F|    14|\n",
            "| 12|    Leo| 32|     M|     6|\n",
            "| 13|    Mia| 23|     F|    13|\n",
            "| 14| Nathan| 34|     M|    18|\n",
            "| 15| Olivia| 27|     F|    15|\n",
            "| 16|  Peter| 30|     M|    19|\n",
            "| 17|  Quinn| 28|     F|    16|\n",
            "| 18|   Ryan| 33|     M|    20|\n",
            "| 19| Sophia| 26|     F|     3|\n",
            "| 20|    Tom| 31|     M|     7|\n",
            "+---+-------+---+------+------+\n",
            "\n",
            "+------+--------------------+------+\n",
            "|job_id|           job_title|salary|\n",
            "+------+--------------------+------+\n",
            "|     1|   Software Engineer| 50000|\n",
            "|     2|        Data Analyst| 60000|\n",
            "|     3|Marketing Specialist| 45000|\n",
            "|     4|Sales Representative| 55000|\n",
            "|     5|     Product Manager| 70000|\n",
            "|     6|   Financial Analyst| 65000|\n",
            "|     7|    Graphic Designer| 52000|\n",
            "|     8|  Operations Manager| 75000|\n",
            "|     9|Customer Service ...| 48000|\n",
            "|    10|     Project Manager| 72000|\n",
            "|    11|      Data Scientist| 80000|\n",
            "|    12|    Business Analyst| 68000|\n",
            "|    13|  Software Developer| 75000|\n",
            "|    14|      UI/UX Designer| 62000|\n",
            "|    15|   Financial Planner| 70000|\n",
            "|    16|Human Resources M...| 73000|\n",
            "|    17|Digital Marketing...| 58000|\n",
            "|    18|          IT Support| 43000|\n",
            "|    19|  Research Scientist| 75000|\n",
            "|    20|             Trainee| 46000|\n",
            "+------+--------------------+------+\n",
            "\n"
          ]
        }
      ]
    },
    {
      "cell_type": "code",
      "source": [
        "# selecionando colunas\n",
        "people_df.select(\"name\", \"age\").show()"
      ],
      "metadata": {
        "colab": {
          "base_uri": "https://localhost:8080/"
        },
        "id": "8b0qCHW32YaY",
        "outputId": "1e9b43bf-55e8-4be5-ec48-95218ed951da"
      },
      "execution_count": 7,
      "outputs": [
        {
          "output_type": "stream",
          "name": "stdout",
          "text": [
            "+-------+---+\n",
            "|   name|age|\n",
            "+-------+---+\n",
            "|  Alice| 25|\n",
            "|    Bob| 30|\n",
            "|Charlie| 22|\n",
            "|  David| 28|\n",
            "|    Eve| 35|\n",
            "|  Frank| 27|\n",
            "|  Grace| 29|\n",
            "|  Henry| 33|\n",
            "|    Ivy| 26|\n",
            "|   Jack| 31|\n",
            "|  Karen| 24|\n",
            "|    Leo| 32|\n",
            "|    Mia| 23|\n",
            "| Nathan| 34|\n",
            "| Olivia| 27|\n",
            "|  Peter| 30|\n",
            "|  Quinn| 28|\n",
            "|   Ryan| 33|\n",
            "| Sophia| 26|\n",
            "|    Tom| 31|\n",
            "+-------+---+\n",
            "\n"
          ]
        }
      ]
    },
    {
      "cell_type": "code",
      "source": [
        "# filtrando dados\n",
        "people_df.filter(col(\"age\") > 30).show()"
      ],
      "metadata": {
        "colab": {
          "base_uri": "https://localhost:8080/"
        },
        "id": "ozupOz3K2hHz",
        "outputId": "64d3b183-8f13-4c13-f23f-1557f597b843"
      },
      "execution_count": 8,
      "outputs": [
        {
          "output_type": "stream",
          "name": "stdout",
          "text": [
            "+---+------+---+------+------+\n",
            "| id|  name|age|gender|job_id|\n",
            "+---+------+---+------+------+\n",
            "|  5|   Eve| 35|     F|    10|\n",
            "|  8| Henry| 33|     M|     9|\n",
            "| 10|  Jack| 31|     M|    17|\n",
            "| 12|   Leo| 32|     M|     6|\n",
            "| 14|Nathan| 34|     M|    18|\n",
            "| 18|  Ryan| 33|     M|    20|\n",
            "| 20|   Tom| 31|     M|     7|\n",
            "+---+------+---+------+------+\n",
            "\n"
          ]
        }
      ]
    },
    {
      "cell_type": "code",
      "source": [
        "# agrupar e agregar dados\n",
        "people_df.groupBy(\"gender\").count().show()"
      ],
      "metadata": {
        "colab": {
          "base_uri": "https://localhost:8080/"
        },
        "id": "OwaTO7zb2tMH",
        "outputId": "a25977f8-7b73-4b9c-bcf0-adcee2fe4aed"
      },
      "execution_count": 9,
      "outputs": [
        {
          "output_type": "stream",
          "name": "stdout",
          "text": [
            "+------+-----+\n",
            "|gender|count|\n",
            "+------+-----+\n",
            "|     F|    9|\n",
            "|     M|   11|\n",
            "+------+-----+\n",
            "\n"
          ]
        }
      ]
    },
    {
      "cell_type": "code",
      "source": [
        "# ordenar dados\n",
        "people_df.orderBy(\"age\", ascending=False).show()"
      ],
      "metadata": {
        "colab": {
          "base_uri": "https://localhost:8080/"
        },
        "id": "ilWXIV7y3Nkq",
        "outputId": "61ffb061-b177-4bc3-dd63-459ccf9a29e8"
      },
      "execution_count": 10,
      "outputs": [
        {
          "output_type": "stream",
          "name": "stdout",
          "text": [
            "+---+-------+---+------+------+\n",
            "| id|   name|age|gender|job_id|\n",
            "+---+-------+---+------+------+\n",
            "|  5|    Eve| 35|     F|    10|\n",
            "| 14| Nathan| 34|     M|    18|\n",
            "|  8|  Henry| 33|     M|     9|\n",
            "| 18|   Ryan| 33|     M|    20|\n",
            "| 12|    Leo| 32|     M|     6|\n",
            "| 10|   Jack| 31|     M|    17|\n",
            "| 20|    Tom| 31|     M|     7|\n",
            "|  2|    Bob| 30|     M|     8|\n",
            "| 16|  Peter| 30|     M|    19|\n",
            "|  7|  Grace| 29|     F|     7|\n",
            "| 17|  Quinn| 28|     F|    16|\n",
            "|  4|  David| 28|     M|     6|\n",
            "| 15| Olivia| 27|     F|    15|\n",
            "|  6|  Frank| 27|     M|     4|\n",
            "| 19| Sophia| 26|     F|     3|\n",
            "|  9|    Ivy| 26|     F|    12|\n",
            "|  1|  Alice| 25|     F|     5|\n",
            "| 11|  Karen| 24|     F|    14|\n",
            "| 13|    Mia| 23|     F|    13|\n",
            "|  3|Charlie| 22|     M|     1|\n",
            "+---+-------+---+------+------+\n",
            "\n"
          ]
        }
      ]
    },
    {
      "cell_type": "code",
      "source": [
        "# unindo as tabelas\n",
        "people_df.join(jobs_df, [\"job_id\"], \"inner\").show()"
      ],
      "metadata": {
        "colab": {
          "base_uri": "https://localhost:8080/"
        },
        "id": "SflDWLsm5p2z",
        "outputId": "ebb75dbd-ed62-4f21-a4ba-3a7280eb21c1"
      },
      "execution_count": 11,
      "outputs": [
        {
          "output_type": "stream",
          "name": "stdout",
          "text": [
            "+------+---+-------+---+------+--------------------+------+\n",
            "|job_id| id|   name|age|gender|           job_title|salary|\n",
            "+------+---+-------+---+------+--------------------+------+\n",
            "|     1|  3|Charlie| 22|     M|   Software Engineer| 50000|\n",
            "|     3| 19| Sophia| 26|     F|Marketing Specialist| 45000|\n",
            "|     4|  6|  Frank| 27|     M|Sales Representative| 55000|\n",
            "|     5|  1|  Alice| 25|     F|     Product Manager| 70000|\n",
            "|     6|  4|  David| 28|     M|   Financial Analyst| 65000|\n",
            "|     6| 12|    Leo| 32|     M|   Financial Analyst| 65000|\n",
            "|     7|  7|  Grace| 29|     F|    Graphic Designer| 52000|\n",
            "|     7| 20|    Tom| 31|     M|    Graphic Designer| 52000|\n",
            "|     8|  2|    Bob| 30|     M|  Operations Manager| 75000|\n",
            "|     9|  8|  Henry| 33|     M|Customer Service ...| 48000|\n",
            "|    10|  5|    Eve| 35|     F|     Project Manager| 72000|\n",
            "|    12|  9|    Ivy| 26|     F|    Business Analyst| 68000|\n",
            "|    13| 13|    Mia| 23|     F|  Software Developer| 75000|\n",
            "|    14| 11|  Karen| 24|     F|      UI/UX Designer| 62000|\n",
            "|    15| 15| Olivia| 27|     F|   Financial Planner| 70000|\n",
            "|    16| 17|  Quinn| 28|     F|Human Resources M...| 73000|\n",
            "|    17| 10|   Jack| 31|     M|Digital Marketing...| 58000|\n",
            "|    18| 14| Nathan| 34|     M|          IT Support| 43000|\n",
            "|    19| 16|  Peter| 30|     M|  Research Scientist| 75000|\n",
            "|    20| 18|   Ryan| 33|     M|             Trainee| 46000|\n",
            "+------+---+-------+---+------+--------------------+------+\n",
            "\n"
          ]
        }
      ]
    },
    {
      "cell_type": "code",
      "source": [
        "# adicionando novas colunas\n",
        "people_df = people_df.withColumn(\"age_plus_10\", col(\"age\") + 10)\n",
        "people_df.show()"
      ],
      "metadata": {
        "colab": {
          "base_uri": "https://localhost:8080/"
        },
        "id": "5Ny9xZdbomrV",
        "outputId": "b2f09626-8123-4659-8a36-e30ea6093bd7"
      },
      "execution_count": 12,
      "outputs": [
        {
          "output_type": "stream",
          "name": "stdout",
          "text": [
            "+---+-------+---+------+------+-----------+\n",
            "| id|   name|age|gender|job_id|age_plus_10|\n",
            "+---+-------+---+------+------+-----------+\n",
            "|  1|  Alice| 25|     F|     5|         35|\n",
            "|  2|    Bob| 30|     M|     8|         40|\n",
            "|  3|Charlie| 22|     M|     1|         32|\n",
            "|  4|  David| 28|     M|     6|         38|\n",
            "|  5|    Eve| 35|     F|    10|         45|\n",
            "|  6|  Frank| 27|     M|     4|         37|\n",
            "|  7|  Grace| 29|     F|     7|         39|\n",
            "|  8|  Henry| 33|     M|     9|         43|\n",
            "|  9|    Ivy| 26|     F|    12|         36|\n",
            "| 10|   Jack| 31|     M|    17|         41|\n",
            "| 11|  Karen| 24|     F|    14|         34|\n",
            "| 12|    Leo| 32|     M|     6|         42|\n",
            "| 13|    Mia| 23|     F|    13|         33|\n",
            "| 14| Nathan| 34|     M|    18|         44|\n",
            "| 15| Olivia| 27|     F|    15|         37|\n",
            "| 16|  Peter| 30|     M|    19|         40|\n",
            "| 17|  Quinn| 28|     F|    16|         38|\n",
            "| 18|   Ryan| 33|     M|    20|         43|\n",
            "| 19| Sophia| 26|     F|     3|         36|\n",
            "| 20|    Tom| 31|     M|     7|         41|\n",
            "+---+-------+---+------+------+-----------+\n",
            "\n"
          ]
        }
      ]
    },
    {
      "cell_type": "code",
      "source": [
        "# renomeando colunas\n",
        "people_df = people_df.withColumnRenamed(\"age_plus_10\", \"new_age\")\n",
        "people_df.show()"
      ],
      "metadata": {
        "colab": {
          "base_uri": "https://localhost:8080/"
        },
        "id": "V0NoNuKrp5Dt",
        "outputId": "47af4a0e-e224-48c4-dc3b-2a4bea308c4d"
      },
      "execution_count": 13,
      "outputs": [
        {
          "output_type": "stream",
          "name": "stdout",
          "text": [
            "+---+-------+---+------+------+-------+\n",
            "| id|   name|age|gender|job_id|new_age|\n",
            "+---+-------+---+------+------+-------+\n",
            "|  1|  Alice| 25|     F|     5|     35|\n",
            "|  2|    Bob| 30|     M|     8|     40|\n",
            "|  3|Charlie| 22|     M|     1|     32|\n",
            "|  4|  David| 28|     M|     6|     38|\n",
            "|  5|    Eve| 35|     F|    10|     45|\n",
            "|  6|  Frank| 27|     M|     4|     37|\n",
            "|  7|  Grace| 29|     F|     7|     39|\n",
            "|  8|  Henry| 33|     M|     9|     43|\n",
            "|  9|    Ivy| 26|     F|    12|     36|\n",
            "| 10|   Jack| 31|     M|    17|     41|\n",
            "| 11|  Karen| 24|     F|    14|     34|\n",
            "| 12|    Leo| 32|     M|     6|     42|\n",
            "| 13|    Mia| 23|     F|    13|     33|\n",
            "| 14| Nathan| 34|     M|    18|     44|\n",
            "| 15| Olivia| 27|     F|    15|     37|\n",
            "| 16|  Peter| 30|     M|    19|     40|\n",
            "| 17|  Quinn| 28|     F|    16|     38|\n",
            "| 18|   Ryan| 33|     M|    20|     43|\n",
            "| 19| Sophia| 26|     F|     3|     36|\n",
            "| 20|    Tom| 31|     M|     7|     41|\n",
            "+---+-------+---+------+------+-------+\n",
            "\n"
          ]
        }
      ]
    },
    {
      "cell_type": "code",
      "source": [
        "# funções de agregação\n",
        "people_df.agg(avg(\"age\").alias(\"avg_age\")).show()"
      ],
      "metadata": {
        "colab": {
          "base_uri": "https://localhost:8080/"
        },
        "id": "1Aavk0Pvqhpn",
        "outputId": "6f8dd46b-e260-49c3-d3fa-684f3c921f81"
      },
      "execution_count": 20,
      "outputs": [
        {
          "output_type": "stream",
          "name": "stdout",
          "text": [
            "+-------+\n",
            "|avg_age|\n",
            "+-------+\n",
            "|   28.7|\n",
            "+-------+\n",
            "\n"
          ]
        }
      ]
    },
    {
      "cell_type": "code",
      "source": [
        "people_df.groupBy(\"gender\").agg(format_number(avg(\"age\"), 1).alias(\"avg_age\")).show()"
      ],
      "metadata": {
        "colab": {
          "base_uri": "https://localhost:8080/"
        },
        "id": "Mc4y3OWeqsnw",
        "outputId": "e7869a08-d1a9-4841-851d-92a6076f3801"
      },
      "execution_count": 17,
      "outputs": [
        {
          "output_type": "stream",
          "name": "stdout",
          "text": [
            "+------+-------+\n",
            "|gender|avg_age|\n",
            "+------+-------+\n",
            "|     F|   27.0|\n",
            "|     M|   30.1|\n",
            "+------+-------+\n",
            "\n"
          ]
        }
      ]
    },
    {
      "cell_type": "code",
      "source": [
        "# funções de string\n",
        "people_df.select(upper(\"name\").alias(\"name\")).show()"
      ],
      "metadata": {
        "colab": {
          "base_uri": "https://localhost:8080/"
        },
        "id": "7cbWHMLBrgkZ",
        "outputId": "ecae536a-44fe-47ae-b083-1f8ff5f72f61"
      },
      "execution_count": 19,
      "outputs": [
        {
          "output_type": "stream",
          "name": "stdout",
          "text": [
            "+-------+\n",
            "|   name|\n",
            "+-------+\n",
            "|  ALICE|\n",
            "|    BOB|\n",
            "|CHARLIE|\n",
            "|  DAVID|\n",
            "|    EVE|\n",
            "|  FRANK|\n",
            "|  GRACE|\n",
            "|  HENRY|\n",
            "|    IVY|\n",
            "|   JACK|\n",
            "|  KAREN|\n",
            "|    LEO|\n",
            "|    MIA|\n",
            "| NATHAN|\n",
            "| OLIVIA|\n",
            "|  PETER|\n",
            "|  QUINN|\n",
            "|   RYAN|\n",
            "| SOPHIA|\n",
            "|    TOM|\n",
            "+-------+\n",
            "\n"
          ]
        }
      ]
    },
    {
      "cell_type": "code",
      "source": [
        "# criando um view temporaria\n",
        "people_df.createOrReplaceTempView(\"people\")\n",
        "jobs_df.createOrReplaceTempView(\"jobs\")\n",
        "\n",
        "# usando spark SQL para consultar dados\n",
        "result_df = spark.sql(\"SELECT p.name, j.job_title FROM people p JOIN jobs j ON p.job_id = j.job_id WHERE p.age > 30\")\n",
        "result_df.show()"
      ],
      "metadata": {
        "colab": {
          "base_uri": "https://localhost:8080/"
        },
        "id": "pgWpGmj7srhv",
        "outputId": "9a074184-a5fd-4f76-c79d-df64037ec28c"
      },
      "execution_count": 21,
      "outputs": [
        {
          "output_type": "stream",
          "name": "stdout",
          "text": [
            "+------+--------------------+\n",
            "|  name|           job_title|\n",
            "+------+--------------------+\n",
            "|   Leo|   Financial Analyst|\n",
            "|   Tom|    Graphic Designer|\n",
            "| Henry|Customer Service ...|\n",
            "|   Eve|     Project Manager|\n",
            "|  Jack|Digital Marketing...|\n",
            "|Nathan|          IT Support|\n",
            "|  Ryan|             Trainee|\n",
            "+------+--------------------+\n",
            "\n"
          ]
        }
      ]
    },
    {
      "cell_type": "code",
      "source": [
        "import matplotlib.pyplot as plt"
      ],
      "metadata": {
        "id": "_Y010Of7uMOn"
      },
      "execution_count": 22,
      "outputs": []
    },
    {
      "cell_type": "code",
      "source": [
        "# agrupando por idade e contando o numero de pessoas\n",
        "age_counts = people_df.groupBy(\"age\").count().orderBy(\"age\").collect()\n",
        "\n",
        "# extraindo as idades e contagens\n",
        "ages = [row[\"age\"] for row in age_counts]\n",
        "counts = [row[\"count\"] for row in age_counts]\n",
        "\n",
        "# criando um grafico de barras\n",
        "plt.plot(ages, counts)\n",
        "plt.xlabel(\"Age\")\n",
        "plt.ylabel(\"Count\")\n",
        "plt.title(\"Count of People by Age\")\n",
        "plt.show()"
      ],
      "metadata": {
        "colab": {
          "base_uri": "https://localhost:8080/",
          "height": 472
        },
        "id": "Vn3TSh3UuQ53",
        "outputId": "8ad49d77-9fb4-4b20-a950-402d5be0b104"
      },
      "execution_count": 23,
      "outputs": [
        {
          "output_type": "display_data",
          "data": {
            "text/plain": [
              "<Figure size 640x480 with 1 Axes>"
            ],
            "image/png": "[encoded data removed]"
          },
          "metadata": {}
        }
      ]
    },
    {
      "cell_type": "code",
      "source": [],
      "metadata": {
        "id": "VDb2pZYsuzAY"
      },
      "execution_count": null,
      "outputs": []
    }
  ]
}